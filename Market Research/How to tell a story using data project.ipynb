{
 "cells": [
  {
   "cell_type": "markdown",
   "metadata": {},
   "source": [
    "# How To Tell a Story Using Data\n",
    "My partners and I have decided to open a small robot-run cafe in Los Angeles. The project is promising but expensive, so we decide to try to attract investors. The investors are interested in the current market conditions — will we be able to maintain your success when the novelty of robot waiters wears off?\n",
    "It's time to prepare some market research.\n",
    "\n",
    "We've been provided with open-source data on restaurants in LA, so all conclusions and recommendations **are based on this data only.** \n",
    "\n"
   ]
  },
  {
   "cell_type": "markdown",
   "metadata": {},
   "source": [
    "## Description of the data"
   ]
  },
  {
   "cell_type": "markdown",
   "metadata": {},
   "source": [
    "`rest_data` table:\n",
    "- object_name — establishment name\n",
    "- chain — chain establishment (TRUE/FALSE)\n",
    "- object_type — establishment type\n",
    "- address — address\n",
    "- number — number of seats"
   ]
  },
  {
   "cell_type": "markdown",
   "metadata": {},
   "source": [
    "## Import Libraries"
   ]
  },
  {
   "cell_type": "code",
   "execution_count": 1,
   "metadata": {
    "scrolled": true
   },
   "outputs": [
    {
     "name": "stdout",
     "output_type": "stream",
     "text": [
      "Requirement already satisfied: usaddress in /opt/conda/lib/python3.9/site-packages (0.5.10)\n",
      "Requirement already satisfied: future>=0.14 in /opt/conda/lib/python3.9/site-packages (from usaddress) (0.18.3)\n",
      "Requirement already satisfied: python-crfsuite>=0.7 in /opt/conda/lib/python3.9/site-packages (from usaddress) (0.9.9)\n",
      "Requirement already satisfied: probableparsing in /opt/conda/lib/python3.9/site-packages (from usaddress) (0.0.1)\n"
     ]
    }
   ],
   "source": [
    "!pip install usaddress"
   ]
  },
  {
   "cell_type": "code",
   "execution_count": 75,
   "metadata": {},
   "outputs": [],
   "source": [
    "import pandas as pd\n",
    "import matplotlib.pyplot as plt\n",
    "%matplotlib inline\n",
    "import matplotlib.ticker as mtick\n",
    "import seaborn as sns\n",
    "import numpy as np"
   ]
  },
  {
   "cell_type": "code",
   "execution_count": 3,
   "metadata": {},
   "outputs": [],
   "source": [
    "import usaddress"
   ]
  },
  {
   "cell_type": "code",
   "execution_count": 4,
   "metadata": {},
   "outputs": [],
   "source": [
    "import re"
   ]
  },
  {
   "cell_type": "markdown",
   "metadata": {},
   "source": [
    "## 1. Data Preprocessing"
   ]
  },
  {
   "cell_type": "markdown",
   "metadata": {},
   "source": [
    "Downloading the data and preparing it for analysis, making sure that the data type for each column is correct and that there are no missing values or duplicates.\n",
    "File path: /datasets/rest_data_us.csv."
   ]
  },
  {
   "cell_type": "code",
   "execution_count": 5,
   "metadata": {},
   "outputs": [],
   "source": [
    "rest_data = pd.read_csv('/datasets/rest_data_us.csv')"
   ]
  },
  {
   "cell_type": "code",
   "execution_count": 6,
   "metadata": {
    "scrolled": true
   },
   "outputs": [
    {
     "data": {
      "text/html": [
       "<div>\n",
       "<style scoped>\n",
       "    .dataframe tbody tr th:only-of-type {\n",
       "        vertical-align: middle;\n",
       "    }\n",
       "\n",
       "    .dataframe tbody tr th {\n",
       "        vertical-align: top;\n",
       "    }\n",
       "\n",
       "    .dataframe thead th {\n",
       "        text-align: right;\n",
       "    }\n",
       "</style>\n",
       "<table border=\"1\" class=\"dataframe\">\n",
       "  <thead>\n",
       "    <tr style=\"text-align: right;\">\n",
       "      <th></th>\n",
       "      <th>id</th>\n",
       "      <th>object_name</th>\n",
       "      <th>address</th>\n",
       "      <th>chain</th>\n",
       "      <th>object_type</th>\n",
       "      <th>number</th>\n",
       "    </tr>\n",
       "  </thead>\n",
       "  <tbody>\n",
       "    <tr>\n",
       "      <th>0</th>\n",
       "      <td>11786</td>\n",
       "      <td>HABITAT COFFEE SHOP</td>\n",
       "      <td>3708 N EAGLE ROCK BLVD</td>\n",
       "      <td>False</td>\n",
       "      <td>Cafe</td>\n",
       "      <td>26</td>\n",
       "    </tr>\n",
       "    <tr>\n",
       "      <th>1</th>\n",
       "      <td>11787</td>\n",
       "      <td>REILLY'S</td>\n",
       "      <td>100 WORLD WAY # 120</td>\n",
       "      <td>False</td>\n",
       "      <td>Restaurant</td>\n",
       "      <td>9</td>\n",
       "    </tr>\n",
       "    <tr>\n",
       "      <th>2</th>\n",
       "      <td>11788</td>\n",
       "      <td>STREET CHURROS</td>\n",
       "      <td>6801 HOLLYWOOD BLVD # 253</td>\n",
       "      <td>False</td>\n",
       "      <td>Fast Food</td>\n",
       "      <td>20</td>\n",
       "    </tr>\n",
       "    <tr>\n",
       "      <th>3</th>\n",
       "      <td>11789</td>\n",
       "      <td>TRINITI ECHO PARK</td>\n",
       "      <td>1814 W SUNSET BLVD</td>\n",
       "      <td>False</td>\n",
       "      <td>Restaurant</td>\n",
       "      <td>22</td>\n",
       "    </tr>\n",
       "    <tr>\n",
       "      <th>4</th>\n",
       "      <td>11790</td>\n",
       "      <td>POLLEN</td>\n",
       "      <td>2100 ECHO PARK AVE</td>\n",
       "      <td>False</td>\n",
       "      <td>Restaurant</td>\n",
       "      <td>20</td>\n",
       "    </tr>\n",
       "  </tbody>\n",
       "</table>\n",
       "</div>"
      ],
      "text/plain": [
       "      id          object_name                    address  chain object_type  \\\n",
       "0  11786  HABITAT COFFEE SHOP     3708 N EAGLE ROCK BLVD  False        Cafe   \n",
       "1  11787             REILLY'S        100 WORLD WAY # 120  False  Restaurant   \n",
       "2  11788       STREET CHURROS  6801 HOLLYWOOD BLVD # 253  False   Fast Food   \n",
       "3  11789    TRINITI ECHO PARK         1814 W SUNSET BLVD  False  Restaurant   \n",
       "4  11790               POLLEN         2100 ECHO PARK AVE  False  Restaurant   \n",
       "\n",
       "   number  \n",
       "0      26  \n",
       "1       9  \n",
       "2      20  \n",
       "3      22  \n",
       "4      20  "
      ]
     },
     "execution_count": 6,
     "metadata": {},
     "output_type": "execute_result"
    }
   ],
   "source": [
    "rest_data.head()"
   ]
  },
  {
   "cell_type": "code",
   "execution_count": 7,
   "metadata": {},
   "outputs": [
    {
     "name": "stdout",
     "output_type": "stream",
     "text": [
      "<class 'pandas.core.frame.DataFrame'>\n",
      "RangeIndex: 9651 entries, 0 to 9650\n",
      "Data columns (total 6 columns):\n",
      " #   Column       Non-Null Count  Dtype \n",
      "---  ------       --------------  ----- \n",
      " 0   id           9651 non-null   int64 \n",
      " 1   object_name  9651 non-null   object\n",
      " 2   address      9651 non-null   object\n",
      " 3   chain        9648 non-null   object\n",
      " 4   object_type  9651 non-null   object\n",
      " 5   number       9651 non-null   int64 \n",
      "dtypes: int64(2), object(4)\n",
      "memory usage: 452.5+ KB\n"
     ]
    }
   ],
   "source": [
    "rest_data.info()"
   ]
  },
  {
   "cell_type": "markdown",
   "metadata": {},
   "source": [
    "ok so there are a few things to correct here.\n",
    "- chain needs to be a boolean type\n",
    "- number needs to be called 'seats' as it represents the number of seats\n",
    "- values need to be in lower case\n",
    "\n",
    "also we see that there are missing values in chain, so we will look at them and drop if we can not say for sure whether they are chain or not, as there are only 3 of them.\n",
    "\n",
    "we will look for duplicates as well."
   ]
  },
  {
   "cell_type": "code",
   "execution_count": 8,
   "metadata": {},
   "outputs": [],
   "source": [
    "rest_data.rename(columns = {'number':'seats','object_name':'name', 'object_type':'type'}, inplace = True)"
   ]
  },
  {
   "cell_type": "code",
   "execution_count": 9,
   "metadata": {},
   "outputs": [],
   "source": [
    "rest_data['name'] = rest_data['name'].str.title()"
   ]
  },
  {
   "cell_type": "code",
   "execution_count": 10,
   "metadata": {
    "scrolled": true
   },
   "outputs": [
    {
     "data": {
      "text/html": [
       "<div>\n",
       "<style scoped>\n",
       "    .dataframe tbody tr th:only-of-type {\n",
       "        vertical-align: middle;\n",
       "    }\n",
       "\n",
       "    .dataframe tbody tr th {\n",
       "        vertical-align: top;\n",
       "    }\n",
       "\n",
       "    .dataframe thead th {\n",
       "        text-align: right;\n",
       "    }\n",
       "</style>\n",
       "<table border=\"1\" class=\"dataframe\">\n",
       "  <thead>\n",
       "    <tr style=\"text-align: right;\">\n",
       "      <th></th>\n",
       "      <th>id</th>\n",
       "      <th>name</th>\n",
       "      <th>address</th>\n",
       "      <th>chain</th>\n",
       "      <th>type</th>\n",
       "      <th>seats</th>\n",
       "    </tr>\n",
       "  </thead>\n",
       "  <tbody>\n",
       "    <tr>\n",
       "      <th>7408</th>\n",
       "      <td>19194</td>\n",
       "      <td>Taqueria Los 3 Carnales</td>\n",
       "      <td>5000 E WHITTIER BLVD</td>\n",
       "      <td>NaN</td>\n",
       "      <td>Restaurant</td>\n",
       "      <td>14</td>\n",
       "    </tr>\n",
       "    <tr>\n",
       "      <th>7523</th>\n",
       "      <td>19309</td>\n",
       "      <td>Jammin Jimmy'S Pizza</td>\n",
       "      <td>1641 FIRESTONE BLVD</td>\n",
       "      <td>NaN</td>\n",
       "      <td>Pizza</td>\n",
       "      <td>1</td>\n",
       "    </tr>\n",
       "    <tr>\n",
       "      <th>8648</th>\n",
       "      <td>20434</td>\n",
       "      <td>The Lexington Theater</td>\n",
       "      <td>129 E 3RD ST</td>\n",
       "      <td>NaN</td>\n",
       "      <td>Restaurant</td>\n",
       "      <td>35</td>\n",
       "    </tr>\n",
       "  </tbody>\n",
       "</table>\n",
       "</div>"
      ],
      "text/plain": [
       "         id                     name               address chain        type  \\\n",
       "7408  19194  Taqueria Los 3 Carnales  5000 E WHITTIER BLVD   NaN  Restaurant   \n",
       "7523  19309     Jammin Jimmy'S Pizza   1641 FIRESTONE BLVD   NaN       Pizza   \n",
       "8648  20434    The Lexington Theater          129 E 3RD ST   NaN  Restaurant   \n",
       "\n",
       "      seats  \n",
       "7408     14  \n",
       "7523      1  \n",
       "8648     35  "
      ]
     },
     "execution_count": 10,
     "metadata": {},
     "output_type": "execute_result"
    }
   ],
   "source": [
    "rest_data[rest_data['chain'].isnull()]"
   ]
  },
  {
   "cell_type": "code",
   "execution_count": 11,
   "metadata": {},
   "outputs": [
    {
     "data": {
      "text/plain": [
       "0"
      ]
     },
     "execution_count": 11,
     "metadata": {},
     "output_type": "execute_result"
    }
   ],
   "source": [
    "rest_data.duplicated().sum()"
   ]
  },
  {
   "cell_type": "code",
   "execution_count": 12,
   "metadata": {},
   "outputs": [],
   "source": [
    "rest_data = rest_data.dropna()"
   ]
  },
  {
   "cell_type": "code",
   "execution_count": 13,
   "metadata": {},
   "outputs": [],
   "source": [
    "rest_data['chain'] = rest_data['chain'].astype('bool')"
   ]
  },
  {
   "cell_type": "code",
   "execution_count": 14,
   "metadata": {},
   "outputs": [
    {
     "name": "stdout",
     "output_type": "stream",
     "text": [
      "<class 'pandas.core.frame.DataFrame'>\n",
      "Int64Index: 9648 entries, 0 to 9650\n",
      "Data columns (total 6 columns):\n",
      " #   Column   Non-Null Count  Dtype \n",
      "---  ------   --------------  ----- \n",
      " 0   id       9648 non-null   int64 \n",
      " 1   name     9648 non-null   object\n",
      " 2   address  9648 non-null   object\n",
      " 3   chain    9648 non-null   bool  \n",
      " 4   type     9648 non-null   object\n",
      " 5   seats    9648 non-null   int64 \n",
      "dtypes: bool(1), int64(2), object(3)\n",
      "memory usage: 461.7+ KB\n"
     ]
    }
   ],
   "source": [
    "rest_data.info()"
   ]
  },
  {
   "cell_type": "markdown",
   "metadata": {},
   "source": [
    "looks better now, but let's see what's inside and if all data is correct and ready for analysis."
   ]
  },
  {
   "cell_type": "code",
   "execution_count": 15,
   "metadata": {
    "scrolled": true
   },
   "outputs": [
    {
     "name": "stdout",
     "output_type": "stream",
     "text": [
      "                            rest_number  total_seats\n",
      "name                                                \n",
      "The Coffee Bean & Tea Leaf           47         1256\n",
      "Subway                               31          509\n",
      "Domino'S Pizza                       15          185\n",
      "Waba Grill                           14          600\n",
      "Kentucky Fried Chicken               14          467\n",
      "                     rest_number  total_seats\n",
      "name                                         \n",
      "Jamba Juice #425               1           29\n",
      "Jamba Juice #644               1           12\n",
      "Jamba Juice #661               1           23\n",
      "Jamba Juice #919               1           12\n",
      "Zip Sushi & Izakaya            1           98\n"
     ]
    }
   ],
   "source": [
    "chains = rest_data.query('chain==True')\n",
    "chain_group = chains.groupby('name')['seats'].agg(['count', 'sum'])\n",
    "chain_group.columns = ['rest_number', 'total_seats']\n",
    "chain_group = chain_group.sort_values(by='rest_number', ascending=False)\n",
    "print(chain_group.head())\n",
    "print(chain_group.tail())"
   ]
  },
  {
   "cell_type": "markdown",
   "metadata": {},
   "source": [
    "Jamba Juice branches are seperated, we need to sort it."
   ]
  },
  {
   "cell_type": "code",
   "execution_count": 16,
   "metadata": {
    "scrolled": true
   },
   "outputs": [
    {
     "data": {
      "text/html": [
       "<div>\n",
       "<style scoped>\n",
       "    .dataframe tbody tr th:only-of-type {\n",
       "        vertical-align: middle;\n",
       "    }\n",
       "\n",
       "    .dataframe tbody tr th {\n",
       "        vertical-align: top;\n",
       "    }\n",
       "\n",
       "    .dataframe thead th {\n",
       "        text-align: right;\n",
       "    }\n",
       "</style>\n",
       "<table border=\"1\" class=\"dataframe\">\n",
       "  <thead>\n",
       "    <tr style=\"text-align: right;\">\n",
       "      <th></th>\n",
       "      <th>id</th>\n",
       "      <th>name</th>\n",
       "      <th>address</th>\n",
       "      <th>chain</th>\n",
       "      <th>type</th>\n",
       "      <th>seats</th>\n",
       "    </tr>\n",
       "  </thead>\n",
       "  <tbody>\n",
       "    <tr>\n",
       "      <th>0</th>\n",
       "      <td>11786</td>\n",
       "      <td>Habitat Coffee Shop</td>\n",
       "      <td>3708 N EAGLE ROCK BLVD</td>\n",
       "      <td>False</td>\n",
       "      <td>Cafe</td>\n",
       "      <td>26</td>\n",
       "    </tr>\n",
       "    <tr>\n",
       "      <th>1</th>\n",
       "      <td>11787</td>\n",
       "      <td>Reilly'S</td>\n",
       "      <td>100 WORLD WAY # 120</td>\n",
       "      <td>False</td>\n",
       "      <td>Restaurant</td>\n",
       "      <td>9</td>\n",
       "    </tr>\n",
       "    <tr>\n",
       "      <th>2</th>\n",
       "      <td>11788</td>\n",
       "      <td>Street Churros</td>\n",
       "      <td>6801 HOLLYWOOD BLVD # 253</td>\n",
       "      <td>False</td>\n",
       "      <td>Fast Food</td>\n",
       "      <td>20</td>\n",
       "    </tr>\n",
       "    <tr>\n",
       "      <th>3</th>\n",
       "      <td>11789</td>\n",
       "      <td>Triniti Echo Park</td>\n",
       "      <td>1814 W SUNSET BLVD</td>\n",
       "      <td>False</td>\n",
       "      <td>Restaurant</td>\n",
       "      <td>22</td>\n",
       "    </tr>\n",
       "    <tr>\n",
       "      <th>4</th>\n",
       "      <td>11790</td>\n",
       "      <td>Pollen</td>\n",
       "      <td>2100 ECHO PARK AVE</td>\n",
       "      <td>False</td>\n",
       "      <td>Restaurant</td>\n",
       "      <td>20</td>\n",
       "    </tr>\n",
       "    <tr>\n",
       "      <th>...</th>\n",
       "      <td>...</td>\n",
       "      <td>...</td>\n",
       "      <td>...</td>\n",
       "      <td>...</td>\n",
       "      <td>...</td>\n",
       "      <td>...</td>\n",
       "    </tr>\n",
       "    <tr>\n",
       "      <th>9646</th>\n",
       "      <td>21432</td>\n",
       "      <td>Hall Of Justice</td>\n",
       "      <td>217 W TEMPLE AVE</td>\n",
       "      <td>False</td>\n",
       "      <td>Restaurant</td>\n",
       "      <td>122</td>\n",
       "    </tr>\n",
       "    <tr>\n",
       "      <th>9647</th>\n",
       "      <td>21433</td>\n",
       "      <td>Fin-Melrose</td>\n",
       "      <td>5750 MELROSE AVE</td>\n",
       "      <td>False</td>\n",
       "      <td>Restaurant</td>\n",
       "      <td>93</td>\n",
       "    </tr>\n",
       "    <tr>\n",
       "      <th>9648</th>\n",
       "      <td>21434</td>\n",
       "      <td>Juicy Wingz</td>\n",
       "      <td>6741 HOLLYWOOD BLVD</td>\n",
       "      <td>True</td>\n",
       "      <td>Fast Food</td>\n",
       "      <td>15</td>\n",
       "    </tr>\n",
       "    <tr>\n",
       "      <th>9649</th>\n",
       "      <td>21435</td>\n",
       "      <td>Medidate Coffee</td>\n",
       "      <td>548 S SPRING ST STE 100</td>\n",
       "      <td>False</td>\n",
       "      <td>Cafe</td>\n",
       "      <td>6</td>\n",
       "    </tr>\n",
       "    <tr>\n",
       "      <th>9650</th>\n",
       "      <td>21436</td>\n",
       "      <td>Cafe Sprouts</td>\n",
       "      <td>1300 S SAN PEDRO ST STE 111</td>\n",
       "      <td>True</td>\n",
       "      <td>Restaurant</td>\n",
       "      <td>19</td>\n",
       "    </tr>\n",
       "  </tbody>\n",
       "</table>\n",
       "<p>9648 rows × 6 columns</p>\n",
       "</div>"
      ],
      "text/plain": [
       "         id                 name                      address  chain  \\\n",
       "0     11786  Habitat Coffee Shop       3708 N EAGLE ROCK BLVD  False   \n",
       "1     11787             Reilly'S          100 WORLD WAY # 120  False   \n",
       "2     11788       Street Churros    6801 HOLLYWOOD BLVD # 253  False   \n",
       "3     11789    Triniti Echo Park           1814 W SUNSET BLVD  False   \n",
       "4     11790               Pollen           2100 ECHO PARK AVE  False   \n",
       "...     ...                  ...                          ...    ...   \n",
       "9646  21432      Hall Of Justice             217 W TEMPLE AVE  False   \n",
       "9647  21433          Fin-Melrose             5750 MELROSE AVE  False   \n",
       "9648  21434          Juicy Wingz          6741 HOLLYWOOD BLVD   True   \n",
       "9649  21435      Medidate Coffee      548 S SPRING ST STE 100  False   \n",
       "9650  21436         Cafe Sprouts  1300 S SAN PEDRO ST STE 111   True   \n",
       "\n",
       "            type  seats  \n",
       "0           Cafe     26  \n",
       "1     Restaurant      9  \n",
       "2      Fast Food     20  \n",
       "3     Restaurant     22  \n",
       "4     Restaurant     20  \n",
       "...          ...    ...  \n",
       "9646  Restaurant    122  \n",
       "9647  Restaurant     93  \n",
       "9648   Fast Food     15  \n",
       "9649        Cafe      6  \n",
       "9650  Restaurant     19  \n",
       "\n",
       "[9648 rows x 6 columns]"
      ]
     },
     "execution_count": 16,
     "metadata": {},
     "output_type": "execute_result"
    }
   ],
   "source": [
    "def remove_digits(name):\n",
    "    name = name.replace('#', '').strip()\n",
    "    name = re.sub(r'\\d+', '', name).strip()  # remove all digits\n",
    "    return name\n",
    "\n",
    "rest_data['name'] = rest_data['name'].apply(lambda x: remove_digits(x))\n",
    "\n",
    "rest_data"
   ]
  },
  {
   "cell_type": "code",
   "execution_count": 17,
   "metadata": {
    "scrolled": true
   },
   "outputs": [
    {
     "data": {
      "text/plain": [
       "0       Habitat Coffee Shop\n",
       "1                  Reilly'S\n",
       "2            Street Churros\n",
       "3         Triniti Echo Park\n",
       "4                    Pollen\n",
       "               ...         \n",
       "9646        Hall Of Justice\n",
       "9647            Fin-Melrose\n",
       "9648            Juicy Wingz\n",
       "9649        Medidate Coffee\n",
       "9650           Cafe Sprouts\n",
       "Name: name, Length: 9648, dtype: object"
      ]
     },
     "execution_count": 17,
     "metadata": {},
     "output_type": "execute_result"
    }
   ],
   "source": [
    "rest_data['name']"
   ]
  },
  {
   "cell_type": "code",
   "execution_count": 18,
   "metadata": {
    "scrolled": true
   },
   "outputs": [
    {
     "data": {
      "text/plain": [
       "149             Jamba Juice\n",
       "379             Jamba Juice\n",
       "775             Jamba Juice\n",
       "2661            Jamba Juice\n",
       "3087            Jamba Juice\n",
       "3812            Jamba Juice\n",
       "4750            Jamba Juice\n",
       "4838            Jamba Juice\n",
       "5506            Jamba Juice\n",
       "6282            Jamba Juice\n",
       "7008            Jamba Juice\n",
       "7358            Jamba Juice\n",
       "7390            Jamba Juice\n",
       "7571            Jamba Juice\n",
       "7812            Jamba Juice\n",
       "7866            Jamba Juice\n",
       "7961    Jamba Juice Company\n",
       "7994            Jamba Juice\n",
       "8177            Jamba Juice\n",
       "9024            Jamba Juice\n",
       "Name: name, dtype: object"
      ]
     },
     "execution_count": 18,
     "metadata": {},
     "output_type": "execute_result"
    }
   ],
   "source": [
    "jamba_rows = rest_data['name'].str.contains('Jamba')\n",
    "jamba_names = rest_data.loc[jamba_rows, 'name']\n",
    "jamba_names"
   ]
  },
  {
   "cell_type": "code",
   "execution_count": 19,
   "metadata": {},
   "outputs": [],
   "source": [
    "rest_data['name'] = rest_data['name'].replace('Jamba Juice Company', 'Jamba Juice')"
   ]
  },
  {
   "cell_type": "code",
   "execution_count": 20,
   "metadata": {
    "scrolled": true
   },
   "outputs": [
    {
     "data": {
      "text/plain": [
       "149     Jamba Juice\n",
       "379     Jamba Juice\n",
       "775     Jamba Juice\n",
       "2661    Jamba Juice\n",
       "3087    Jamba Juice\n",
       "3812    Jamba Juice\n",
       "4750    Jamba Juice\n",
       "4838    Jamba Juice\n",
       "5506    Jamba Juice\n",
       "6282    Jamba Juice\n",
       "7008    Jamba Juice\n",
       "7358    Jamba Juice\n",
       "7390    Jamba Juice\n",
       "7571    Jamba Juice\n",
       "7812    Jamba Juice\n",
       "7866    Jamba Juice\n",
       "7961    Jamba Juice\n",
       "7994    Jamba Juice\n",
       "8177    Jamba Juice\n",
       "9024    Jamba Juice\n",
       "Name: name, dtype: object"
      ]
     },
     "execution_count": 20,
     "metadata": {},
     "output_type": "execute_result"
    }
   ],
   "source": [
    "jamba_rows = rest_data['name'].str.contains('Jamba')\n",
    "jamba_names = rest_data.loc[jamba_rows, 'name']\n",
    "jamba_names"
   ]
  },
  {
   "cell_type": "code",
   "execution_count": 21,
   "metadata": {
    "scrolled": true
   },
   "outputs": [
    {
     "data": {
      "text/plain": [
       "20"
      ]
     },
     "execution_count": 21,
     "metadata": {},
     "output_type": "execute_result"
    }
   ],
   "source": [
    "jamba_names.count()"
   ]
  },
  {
   "cell_type": "code",
   "execution_count": 22,
   "metadata": {},
   "outputs": [
    {
     "data": {
      "text/plain": [
       "0"
      ]
     },
     "execution_count": 22,
     "metadata": {},
     "output_type": "execute_result"
    }
   ],
   "source": [
    "rest_data.duplicated().sum()"
   ]
  },
  {
   "cell_type": "code",
   "execution_count": 23,
   "metadata": {},
   "outputs": [
    {
     "data": {
      "text/plain": [
       "id         0\n",
       "name       0\n",
       "address    0\n",
       "chain      0\n",
       "type       0\n",
       "seats      0\n",
       "dtype: int64"
      ]
     },
     "execution_count": 23,
     "metadata": {},
     "output_type": "execute_result"
    }
   ],
   "source": [
    "rest_data.isna().sum()"
   ]
  },
  {
   "cell_type": "code",
   "execution_count": 24,
   "metadata": {
    "scrolled": true
   },
   "outputs": [
    {
     "name": "stdout",
     "output_type": "stream",
     "text": [
      "<class 'pandas.core.frame.DataFrame'>\n",
      "Int64Index: 9648 entries, 0 to 9650\n",
      "Data columns (total 6 columns):\n",
      " #   Column   Non-Null Count  Dtype \n",
      "---  ------   --------------  ----- \n",
      " 0   id       9648 non-null   int64 \n",
      " 1   name     9648 non-null   object\n",
      " 2   address  9648 non-null   object\n",
      " 3   chain    9648 non-null   bool  \n",
      " 4   type     9648 non-null   object\n",
      " 5   seats    9648 non-null   int64 \n",
      "dtypes: bool(1), int64(2), object(3)\n",
      "memory usage: 461.7+ KB\n"
     ]
    }
   ],
   "source": [
    "rest_data.info()"
   ]
  },
  {
   "cell_type": "markdown",
   "metadata": {},
   "source": [
    "At last, all sorted. "
   ]
  },
  {
   "cell_type": "markdown",
   "metadata": {},
   "source": [
    "## 2. Data Analysis"
   ]
  },
  {
   "cell_type": "markdown",
   "metadata": {},
   "source": [
    "### 2.1 Proportions of establishments types"
   ]
  },
  {
   "cell_type": "code",
   "execution_count": 25,
   "metadata": {},
   "outputs": [
    {
     "data": {
      "text/plain": [
       "Restaurant    75.176202\n",
       "Fast Food     11.048922\n",
       "Cafe           4.508706\n",
       "Pizza          3.306385\n",
       "Bar            3.026534\n",
       "Bakery         2.933250\n",
       "Name: type, dtype: float64"
      ]
     },
     "execution_count": 25,
     "metadata": {},
     "output_type": "execute_result"
    }
   ],
   "source": [
    "type_counts = rest_data['type'].value_counts()\n",
    "type_perc = type_counts / len(rest_data) * 100\n",
    "type_perc"
   ]
  },
  {
   "cell_type": "code",
   "execution_count": 26,
   "metadata": {
    "scrolled": true
   },
   "outputs": [
    {
     "data": {
      "text/plain": [
       "Restaurant    7253\n",
       "Fast Food     1066\n",
       "Cafe           435\n",
       "Pizza          319\n",
       "Bar            292\n",
       "Bakery         283\n",
       "Name: type, dtype: int64"
      ]
     },
     "execution_count": 26,
     "metadata": {},
     "output_type": "execute_result"
    }
   ],
   "source": [
    "type_counts"
   ]
  },
  {
   "cell_type": "code",
   "execution_count": 35,
   "metadata": {},
   "outputs": [
    {
     "data": {
      "image/png": "[encoded data removed]",
      "text/plain": [
       "<Figure size 936x648 with 1 Axes>"
      ]
     },
     "metadata": {},
     "output_type": "display_data"
    }
   ],
   "source": [
    "sns.set(style=\"white\", rc={\"figure.figsize\":(13,9)})\n",
    "ax= sns.barplot(x=type_perc.index, y=type_perc.values, color=\"Green\")\n",
    "plt.title('Percentage of establishment types')\n",
    "plt.xlabel('Establishment Type')\n",
    "plt.ylabel('Percentage of establishments')\n",
    "ax.yaxis.set_major_formatter(mtick.PercentFormatter(100))\n",
    "sns.despine();"
   ]
  },
  {
   "cell_type": "markdown",
   "metadata": {
    "slideshow": {
     "slide_type": "subslide"
    }
   },
   "source": [
    "Restaurant is our leading establishment in LA, as it holds 75% of them establishments! After that it's 11% fastfood and 4.5% cafes. seems pretty reasonable, but we will not give up on our idea just now."
   ]
  },
  {
   "cell_type": "markdown",
   "metadata": {},
   "source": [
    "### 2.2 Chain vs. Non-Chain Establishments"
   ]
  },
  {
   "cell_type": "code",
   "execution_count": 36,
   "metadata": {},
   "outputs": [],
   "source": [
    "chain_counts = rest_data['chain'].value_counts()"
   ]
  },
  {
   "cell_type": "code",
   "execution_count": 37,
   "metadata": {},
   "outputs": [
    {
     "data": {
      "text/plain": [
       "False    5972\n",
       "True     3676\n",
       "Name: chain, dtype: int64"
      ]
     },
     "execution_count": 37,
     "metadata": {},
     "output_type": "execute_result"
    }
   ],
   "source": [
    "chain_counts"
   ]
  },
  {
   "cell_type": "code",
   "execution_count": 41,
   "metadata": {
    "slideshow": {
     "slide_type": "slide"
    }
   },
   "outputs": [
    {
     "data": {
      "image/png": "[encoded data removed]",
      "text/plain": [
       "<Figure size 936x648 with 1 Axes>"
      ]
     },
     "metadata": {},
     "output_type": "display_data"
    }
   ],
   "source": [
    "plt.figure(figsize=(13,9))\n",
    "plt.title('Chain vs. Non-Chain Establishments')\n",
    "sns.set_palette('Greens')\n",
    "plt.pie(chain_counts.values, labels=chain_counts.index, autopct='%1.1f%%', startangle=90, textprops={'fontsize': 12});"
   ]
  },
  {
   "cell_type": "markdown",
   "metadata": {
    "slideshow": {
     "slide_type": "subslide"
    }
   },
   "source": [
    "Most of the establishments in LA are non-chain."
   ]
  },
  {
   "cell_type": "markdown",
   "metadata": {},
   "source": [
    "### 2.3 Which type of establishment is typically a chain?"
   ]
  },
  {
   "cell_type": "code",
   "execution_count": 72,
   "metadata": {
    "scrolled": true
   },
   "outputs": [],
   "source": [
    "pivot = pd.pivot_table(rest_data, index='type', values='chain')\n",
    "pivot['chain'] = pivot['chain'] * 100\n",
    "pivot['Non-chain Percentage'] = 100 - (pivot['chain'])\n",
    "pivot = pivot.sort_values(by='chain', ascending=False)\n",
    "pivot = pivot.rename(columns={'chain': 'Chain Percentage'})"
   ]
  },
  {
   "cell_type": "code",
   "execution_count": 77,
   "metadata": {},
   "outputs": [
    {
     "data": {
      "image/png": "[encoded data removed]",
      "text/plain": [
       "<Figure size 936x648 with 1 Axes>"
      ]
     },
     "metadata": {
      "needs_background": "light"
     },
     "output_type": "display_data"
    }
   ],
   "source": [
    "fig, ax = plt.subplots(figsize=(13, 9))\n",
    "bar_width = 0.35\n",
    "opacity = 0.8\n",
    "index = np.arange(len(pivot.index))\n",
    "\n",
    "chains = ax.bar(index, pivot['Chain Percentage'], bar_width, alpha=opacity, color='g', label='Chain')\n",
    "non_chains = ax.bar(index + bar_width, pivot['Non-chain Percentage'], bar_width, alpha=opacity, color='r', label='Non-chain')\n",
    "\n",
    "ax.set_xlabel('Type of Establishment')\n",
    "ax.set_ylabel('Percentage')\n",
    "ax.set_title('Comparison of Chain and Non-chain Establishments by Type')\n",
    "ax.set_xticks(index + bar_width / 2)\n",
    "ax.set_xticklabels(pivot.index)\n",
    "ax.yaxis.set_major_formatter(mtick.PercentFormatter(100))\n",
    "ax.legend();\n"
   ]
  },
  {
   "cell_type": "markdown",
   "metadata": {
    "slideshow": {
     "slide_type": "subslide"
    }
   },
   "source": [
    "So bakeries are 100% chains, which is interesting, as you would expect them to be family-owned or so. cafes and fast food are behind with about 60% which is decents. restaurants and bars are lower than 40% chains, and that makes sense."
   ]
  },
  {
   "cell_type": "markdown",
   "metadata": {},
   "source": [
    "### 2.4 What characterizes chains?"
   ]
  },
  {
   "cell_type": "code",
   "execution_count": 40,
   "metadata": {
    "scrolled": true
   },
   "outputs": [
    {
     "data": {
      "text/plain": [
       "count    3676.000000\n",
       "mean       39.694233\n",
       "std        43.437212\n",
       "min         1.000000\n",
       "25%        13.000000\n",
       "50%        25.000000\n",
       "75%        44.000000\n",
       "max       229.000000\n",
       "Name: seats, dtype: float64"
      ]
     },
     "execution_count": 40,
     "metadata": {},
     "output_type": "execute_result"
    }
   ],
   "source": [
    "rest_data.loc[rest_data['chain']==True]['seats'].describe()"
   ]
  },
  {
   "cell_type": "code",
   "execution_count": 123,
   "metadata": {
    "slideshow": {
     "slide_type": "slide"
    }
   },
   "outputs": [
    {
     "data": {
      "image/png": "[encoded data removed]",
      "text/plain": [
       "<Figure size 936x648 with 1 Axes>"
      ]
     },
     "metadata": {},
     "output_type": "display_data"
    }
   ],
   "source": [
    "sns.set_style(\"white\")\n",
    "plt.figure(figsize=(13,9))\n",
    "# sns.violinplot(data=rest_data.loc[rest_data['chain']==True], x='seats', y='type', color='green', inner=\"quartile\")\n",
    "sns.histplot(data=rest_data.loc[rest_data['chain']==True], x='seats', color='green')\n",
    "plt.title('Distribution of Seats in Chain Restaurants')\n",
    "plt.xlabel('Number of Seats')\n",
    "plt.ylabel('Number of Establishments')\n",
    "sns.despine();"
   ]
  },
  {
   "cell_type": "code",
   "execution_count": 268,
   "metadata": {},
   "outputs": [],
   "source": [
    "chains_df = rest_data.query('chain == True').groupby('name').agg({'id':'count', 'seats':'mean'}).reset_index()\n",
    "chains_df.columns = ['name', 'number_of_restaurants', 'average_number_of_seats']"
   ]
  },
  {
   "cell_type": "code",
   "execution_count": 271,
   "metadata": {},
   "outputs": [
    {
     "data": {
      "image/png": "[encoded data removed]",
      "text/plain": [
       "<Figure size 936x648 with 1 Axes>"
      ]
     },
     "metadata": {},
     "output_type": "display_data"
    }
   ],
   "source": [
    "sns.set_style(\"white\")\n",
    "plt.figure(figsize=(13,9))\n",
    "sns.scatterplot(y='number_of_restaurants', x='average_number_of_seats', data=chains_df, color='green')\n",
    "plt.title('Distribution of Seats in Chain Restaurants')\n",
    "plt.xlabel('Number of Seats')\n",
    "plt.ylabel('Number of Establishments')\n",
    "sns.despine();"
   ]
  },
  {
   "cell_type": "markdown",
   "metadata": {
    "slideshow": {
     "slide_type": "subslide"
    }
   },
   "source": [
    "Most of chain establishments have between 1-50 seats.\n",
    "Half of them have at least 25 seats.\n",
    "I assume it makes sense because as seen before bakeries, cafes and fast food are most likely to be branches of chains and most likely to have a fewer number of seats. we will see next if that was correct, but still from this plot we can say that **chains are characterised by having many establishments with a small number of seats.**"
   ]
  },
  {
   "cell_type": "markdown",
   "metadata": {},
   "source": [
    "### 2.5 Average number of seats for each type of restaurant. "
   ]
  },
  {
   "cell_type": "code",
   "execution_count": 131,
   "metadata": {
    "slideshow": {
     "slide_type": "slide"
    }
   },
   "outputs": [
    {
     "data": {
      "image/png": "[encoded data removed]",
      "text/plain": [
       "<Figure size 936x648 with 1 Axes>"
      ]
     },
     "metadata": {},
     "output_type": "display_data"
    }
   ],
   "source": [
    "plt.figure(figsize=(13,9))\n",
    "plt.title('Average number of seats for each type of establishment')\n",
    "ax= sns.violinplot(y='type', x='seats', data=rest_data, color='green', inner='quartile')\n",
    "plt.ylabel('Type of establishment')\n",
    "plt.xlabel('Number of Seats')\n",
    "sns.despine();"
   ]
  },
  {
   "cell_type": "markdown",
   "metadata": {
    "slideshow": {
     "slide_type": "subslide"
    }
   },
   "source": [
    "As I was thinking earlier, bakeries, cafes and fast food would have fewer seats because of their business nature - grabbing something quickly, takeouts - compared to restaurants and bars, that are more for gathering of large parties and family celebrations."
   ]
  },
  {
   "cell_type": "markdown",
   "metadata": {},
   "source": [
    "### 2.6 Put the data on street names from the `address` column in a separate column."
   ]
  },
  {
   "cell_type": "code",
   "execution_count": 132,
   "metadata": {},
   "outputs": [],
   "source": [
    "def street_tag(raw):\n",
    "    try:\n",
    "        street_tag=usaddress.tag(raw)[0]['StreetName']\n",
    "    except: \n",
    "        street_tag = 'no street'\n",
    "    return street_tag"
   ]
  },
  {
   "cell_type": "code",
   "execution_count": 133,
   "metadata": {},
   "outputs": [
    {
     "data": {
      "text/html": [
       "<div>\n",
       "<style scoped>\n",
       "    .dataframe tbody tr th:only-of-type {\n",
       "        vertical-align: middle;\n",
       "    }\n",
       "\n",
       "    .dataframe tbody tr th {\n",
       "        vertical-align: top;\n",
       "    }\n",
       "\n",
       "    .dataframe thead th {\n",
       "        text-align: right;\n",
       "    }\n",
       "</style>\n",
       "<table border=\"1\" class=\"dataframe\">\n",
       "  <thead>\n",
       "    <tr style=\"text-align: right;\">\n",
       "      <th></th>\n",
       "      <th>id</th>\n",
       "      <th>name</th>\n",
       "      <th>address</th>\n",
       "      <th>chain</th>\n",
       "      <th>type</th>\n",
       "      <th>seats</th>\n",
       "      <th>street_name</th>\n",
       "    </tr>\n",
       "  </thead>\n",
       "  <tbody>\n",
       "    <tr>\n",
       "      <th>0</th>\n",
       "      <td>11786</td>\n",
       "      <td>Habitat Coffee Shop</td>\n",
       "      <td>3708 N EAGLE ROCK BLVD</td>\n",
       "      <td>False</td>\n",
       "      <td>Cafe</td>\n",
       "      <td>26</td>\n",
       "      <td>EAGLE ROCK</td>\n",
       "    </tr>\n",
       "    <tr>\n",
       "      <th>1</th>\n",
       "      <td>11787</td>\n",
       "      <td>Reilly'S</td>\n",
       "      <td>100 WORLD WAY # 120</td>\n",
       "      <td>False</td>\n",
       "      <td>Restaurant</td>\n",
       "      <td>9</td>\n",
       "      <td>WORLD</td>\n",
       "    </tr>\n",
       "    <tr>\n",
       "      <th>2</th>\n",
       "      <td>11788</td>\n",
       "      <td>Street Churros</td>\n",
       "      <td>6801 HOLLYWOOD BLVD # 253</td>\n",
       "      <td>False</td>\n",
       "      <td>Fast Food</td>\n",
       "      <td>20</td>\n",
       "      <td>HOLLYWOOD</td>\n",
       "    </tr>\n",
       "    <tr>\n",
       "      <th>3</th>\n",
       "      <td>11789</td>\n",
       "      <td>Triniti Echo Park</td>\n",
       "      <td>1814 W SUNSET BLVD</td>\n",
       "      <td>False</td>\n",
       "      <td>Restaurant</td>\n",
       "      <td>22</td>\n",
       "      <td>SUNSET</td>\n",
       "    </tr>\n",
       "    <tr>\n",
       "      <th>4</th>\n",
       "      <td>11790</td>\n",
       "      <td>Pollen</td>\n",
       "      <td>2100 ECHO PARK AVE</td>\n",
       "      <td>False</td>\n",
       "      <td>Restaurant</td>\n",
       "      <td>20</td>\n",
       "      <td>ECHO PARK</td>\n",
       "    </tr>\n",
       "  </tbody>\n",
       "</table>\n",
       "</div>"
      ],
      "text/plain": [
       "      id                 name                    address  chain        type  \\\n",
       "0  11786  Habitat Coffee Shop     3708 N EAGLE ROCK BLVD  False        Cafe   \n",
       "1  11787             Reilly'S        100 WORLD WAY # 120  False  Restaurant   \n",
       "2  11788       Street Churros  6801 HOLLYWOOD BLVD # 253  False   Fast Food   \n",
       "3  11789    Triniti Echo Park         1814 W SUNSET BLVD  False  Restaurant   \n",
       "4  11790               Pollen         2100 ECHO PARK AVE  False  Restaurant   \n",
       "\n",
       "   seats street_name  \n",
       "0     26  EAGLE ROCK  \n",
       "1      9       WORLD  \n",
       "2     20   HOLLYWOOD  \n",
       "3     22      SUNSET  \n",
       "4     20   ECHO PARK  "
      ]
     },
     "execution_count": 133,
     "metadata": {},
     "output_type": "execute_result"
    }
   ],
   "source": [
    "rest_data['street_name']=rest_data.address.apply(street_tag)\n",
    "rest_data.head()"
   ]
  },
  {
   "cell_type": "code",
   "execution_count": 134,
   "metadata": {},
   "outputs": [],
   "source": [
    "rest_data['street_name'] = rest_data['street_name'].str.title()"
   ]
  },
  {
   "cell_type": "code",
   "execution_count": 135,
   "metadata": {
    "scrolled": true
   },
   "outputs": [
    {
     "data": {
      "text/html": [
       "<div>\n",
       "<style scoped>\n",
       "    .dataframe tbody tr th:only-of-type {\n",
       "        vertical-align: middle;\n",
       "    }\n",
       "\n",
       "    .dataframe tbody tr th {\n",
       "        vertical-align: top;\n",
       "    }\n",
       "\n",
       "    .dataframe thead th {\n",
       "        text-align: right;\n",
       "    }\n",
       "</style>\n",
       "<table border=\"1\" class=\"dataframe\">\n",
       "  <thead>\n",
       "    <tr style=\"text-align: right;\">\n",
       "      <th></th>\n",
       "      <th>id</th>\n",
       "      <th>name</th>\n",
       "      <th>address</th>\n",
       "      <th>chain</th>\n",
       "      <th>type</th>\n",
       "      <th>seats</th>\n",
       "      <th>street_name</th>\n",
       "    </tr>\n",
       "  </thead>\n",
       "  <tbody>\n",
       "    <tr>\n",
       "      <th>7003</th>\n",
       "      <td>18789</td>\n",
       "      <td>D.K. Donuts</td>\n",
       "      <td>1033 1/2 LOS ANGELES ST</td>\n",
       "      <td>False</td>\n",
       "      <td>Fast Food</td>\n",
       "      <td>8</td>\n",
       "      <td>No Street</td>\n",
       "    </tr>\n",
       "    <tr>\n",
       "      <th>4673</th>\n",
       "      <td>16459</td>\n",
       "      <td>L' Express  Presto</td>\n",
       "      <td>110 E 9TH ST ST B LOB#2</td>\n",
       "      <td>False</td>\n",
       "      <td>Fast Food</td>\n",
       "      <td>18</td>\n",
       "      <td>No Street</td>\n",
       "    </tr>\n",
       "    <tr>\n",
       "      <th>9129</th>\n",
       "      <td>20915</td>\n",
       "      <td>Midori Matcha Cafe</td>\n",
       "      <td>123 ASTRONAUT E S ONIZUKA ST # 101C</td>\n",
       "      <td>False</td>\n",
       "      <td>Restaurant</td>\n",
       "      <td>9</td>\n",
       "      <td>No Street</td>\n",
       "    </tr>\n",
       "    <tr>\n",
       "      <th>9058</th>\n",
       "      <td>20844</td>\n",
       "      <td>Torigoya</td>\n",
       "      <td>123 ASTRONAUT E S ONIZUKA ST STE 203</td>\n",
       "      <td>False</td>\n",
       "      <td>Restaurant</td>\n",
       "      <td>34</td>\n",
       "      <td>No Street</td>\n",
       "    </tr>\n",
       "    <tr>\n",
       "      <th>8208</th>\n",
       "      <td>19994</td>\n",
       "      <td>Kokekokko</td>\n",
       "      <td>123 ASTRONAUT E S ONIZUKA ST STE 203</td>\n",
       "      <td>False</td>\n",
       "      <td>Restaurant</td>\n",
       "      <td>43</td>\n",
       "      <td>No Street</td>\n",
       "    </tr>\n",
       "    <tr>\n",
       "      <th>8996</th>\n",
       "      <td>20782</td>\n",
       "      <td>Sandwich Shop Little Tokyo</td>\n",
       "      <td>123 ASTRONAUT E. S. ONIZUKA ST</td>\n",
       "      <td>False</td>\n",
       "      <td>Restaurant</td>\n",
       "      <td>8</td>\n",
       "      <td>No Street</td>\n",
       "    </tr>\n",
       "    <tr>\n",
       "      <th>8988</th>\n",
       "      <td>20774</td>\n",
       "      <td>Teashot</td>\n",
       "      <td>123 ASTRONAUT E. S. ONIZUKA ST</td>\n",
       "      <td>False</td>\n",
       "      <td>Restaurant</td>\n",
       "      <td>20</td>\n",
       "      <td>No Street</td>\n",
       "    </tr>\n",
       "    <tr>\n",
       "      <th>9256</th>\n",
       "      <td>21042</td>\n",
       "      <td>Hisaya Kyoto Chestnuts Cafe</td>\n",
       "      <td>123 E ASTRONAUT E S ONIZUKA ST #108</td>\n",
       "      <td>False</td>\n",
       "      <td>Restaurant</td>\n",
       "      <td>24</td>\n",
       "      <td>No Street</td>\n",
       "    </tr>\n",
       "    <tr>\n",
       "      <th>6088</th>\n",
       "      <td>17874</td>\n",
       "      <td>Dan'S Deli</td>\n",
       "      <td>300 S GRAND AVENUE LOW PLAZA 35</td>\n",
       "      <td>True</td>\n",
       "      <td>Restaurant</td>\n",
       "      <td>18</td>\n",
       "      <td>No Street</td>\n",
       "    </tr>\n",
       "    <tr>\n",
       "      <th>1805</th>\n",
       "      <td>13591</td>\n",
       "      <td>El Gallo</td>\n",
       "      <td>3425 E 1ST ST SO. 3RDFL</td>\n",
       "      <td>False</td>\n",
       "      <td>Restaurant</td>\n",
       "      <td>44</td>\n",
       "      <td>No Street</td>\n",
       "    </tr>\n",
       "    <tr>\n",
       "      <th>7321</th>\n",
       "      <td>19107</td>\n",
       "      <td>Kitty'S Snow Cones</td>\n",
       "      <td>OLVERA ST 2</td>\n",
       "      <td>False</td>\n",
       "      <td>Restaurant</td>\n",
       "      <td>11</td>\n",
       "      <td>No Street</td>\n",
       "    </tr>\n",
       "    <tr>\n",
       "      <th>7319</th>\n",
       "      <td>19105</td>\n",
       "      <td>Juanita'S Cafe</td>\n",
       "      <td>OLVERA ST 20</td>\n",
       "      <td>False</td>\n",
       "      <td>Restaurant</td>\n",
       "      <td>12</td>\n",
       "      <td>No Street</td>\n",
       "    </tr>\n",
       "    <tr>\n",
       "      <th>7281</th>\n",
       "      <td>19067</td>\n",
       "      <td>Cielito Lindo</td>\n",
       "      <td>OLVERA ST 23</td>\n",
       "      <td>False</td>\n",
       "      <td>Restaurant</td>\n",
       "      <td>2</td>\n",
       "      <td>No Street</td>\n",
       "    </tr>\n",
       "    <tr>\n",
       "      <th>3719</th>\n",
       "      <td>15505</td>\n",
       "      <td>Las Anitas</td>\n",
       "      <td>OLVERA ST 26</td>\n",
       "      <td>False</td>\n",
       "      <td>Restaurant</td>\n",
       "      <td>38</td>\n",
       "      <td>No Street</td>\n",
       "    </tr>\n",
       "    <tr>\n",
       "      <th>7741</th>\n",
       "      <td>19527</td>\n",
       "      <td>Rodolfo'S Restaurant</td>\n",
       "      <td>OLVERA ST 5</td>\n",
       "      <td>True</td>\n",
       "      <td>Restaurant</td>\n",
       "      <td>4</td>\n",
       "      <td>No Street</td>\n",
       "    </tr>\n",
       "    <tr>\n",
       "      <th>1888</th>\n",
       "      <td>13674</td>\n",
       "      <td>Magdaleno Debbie</td>\n",
       "      <td>OLVERA ST E17</td>\n",
       "      <td>False</td>\n",
       "      <td>Restaurant</td>\n",
       "      <td>15</td>\n",
       "      <td>No Street</td>\n",
       "    </tr>\n",
       "    <tr>\n",
       "      <th>7438</th>\n",
       "      <td>19224</td>\n",
       "      <td>La Golondrina</td>\n",
       "      <td>OLVERA ST W17</td>\n",
       "      <td>False</td>\n",
       "      <td>Restaurant</td>\n",
       "      <td>204</td>\n",
       "      <td>No Street</td>\n",
       "    </tr>\n",
       "  </tbody>\n",
       "</table>\n",
       "</div>"
      ],
      "text/plain": [
       "         id                         name  \\\n",
       "7003  18789                  D.K. Donuts   \n",
       "4673  16459           L' Express  Presto   \n",
       "9129  20915           Midori Matcha Cafe   \n",
       "9058  20844                     Torigoya   \n",
       "8208  19994                    Kokekokko   \n",
       "8996  20782   Sandwich Shop Little Tokyo   \n",
       "8988  20774                      Teashot   \n",
       "9256  21042  Hisaya Kyoto Chestnuts Cafe   \n",
       "6088  17874                   Dan'S Deli   \n",
       "1805  13591                     El Gallo   \n",
       "7321  19107           Kitty'S Snow Cones   \n",
       "7319  19105               Juanita'S Cafe   \n",
       "7281  19067                Cielito Lindo   \n",
       "3719  15505                   Las Anitas   \n",
       "7741  19527         Rodolfo'S Restaurant   \n",
       "1888  13674             Magdaleno Debbie   \n",
       "7438  19224                La Golondrina   \n",
       "\n",
       "                                   address  chain        type  seats  \\\n",
       "7003               1033 1/2 LOS ANGELES ST  False   Fast Food      8   \n",
       "4673               110 E 9TH ST ST B LOB#2  False   Fast Food     18   \n",
       "9129   123 ASTRONAUT E S ONIZUKA ST # 101C  False  Restaurant      9   \n",
       "9058  123 ASTRONAUT E S ONIZUKA ST STE 203  False  Restaurant     34   \n",
       "8208  123 ASTRONAUT E S ONIZUKA ST STE 203  False  Restaurant     43   \n",
       "8996        123 ASTRONAUT E. S. ONIZUKA ST  False  Restaurant      8   \n",
       "8988        123 ASTRONAUT E. S. ONIZUKA ST  False  Restaurant     20   \n",
       "9256   123 E ASTRONAUT E S ONIZUKA ST #108  False  Restaurant     24   \n",
       "6088       300 S GRAND AVENUE LOW PLAZA 35   True  Restaurant     18   \n",
       "1805               3425 E 1ST ST SO. 3RDFL  False  Restaurant     44   \n",
       "7321                           OLVERA ST 2  False  Restaurant     11   \n",
       "7319                          OLVERA ST 20  False  Restaurant     12   \n",
       "7281                          OLVERA ST 23  False  Restaurant      2   \n",
       "3719                          OLVERA ST 26  False  Restaurant     38   \n",
       "7741                           OLVERA ST 5   True  Restaurant      4   \n",
       "1888                         OLVERA ST E17  False  Restaurant     15   \n",
       "7438                         OLVERA ST W17  False  Restaurant    204   \n",
       "\n",
       "     street_name  \n",
       "7003   No Street  \n",
       "4673   No Street  \n",
       "9129   No Street  \n",
       "9058   No Street  \n",
       "8208   No Street  \n",
       "8996   No Street  \n",
       "8988   No Street  \n",
       "9256   No Street  \n",
       "6088   No Street  \n",
       "1805   No Street  \n",
       "7321   No Street  \n",
       "7319   No Street  \n",
       "7281   No Street  \n",
       "3719   No Street  \n",
       "7741   No Street  \n",
       "1888   No Street  \n",
       "7438   No Street  "
      ]
     },
     "execution_count": 135,
     "metadata": {},
     "output_type": "execute_result"
    }
   ],
   "source": [
    "rest_data[rest_data['street_name']=='No Street'].sort_values(by='address')"
   ]
  },
  {
   "cell_type": "code",
   "execution_count": 136,
   "metadata": {
    "scrolled": true
   },
   "outputs": [
    {
     "data": {
      "text/plain": [
       "17"
      ]
     },
     "execution_count": 136,
     "metadata": {},
     "output_type": "execute_result"
    }
   ],
   "source": [
    "len(rest_data[rest_data['street_name']=='No Street'])"
   ]
  },
  {
   "cell_type": "code",
   "execution_count": 137,
   "metadata": {},
   "outputs": [
    {
     "data": {
      "text/html": [
       "<div>\n",
       "<style scoped>\n",
       "    .dataframe tbody tr th:only-of-type {\n",
       "        vertical-align: middle;\n",
       "    }\n",
       "\n",
       "    .dataframe tbody tr th {\n",
       "        vertical-align: top;\n",
       "    }\n",
       "\n",
       "    .dataframe thead th {\n",
       "        text-align: right;\n",
       "    }\n",
       "</style>\n",
       "<table border=\"1\" class=\"dataframe\">\n",
       "  <thead>\n",
       "    <tr style=\"text-align: right;\">\n",
       "      <th></th>\n",
       "      <th>id</th>\n",
       "      <th>name</th>\n",
       "      <th>address</th>\n",
       "      <th>chain</th>\n",
       "      <th>type</th>\n",
       "      <th>seats</th>\n",
       "      <th>street_name</th>\n",
       "    </tr>\n",
       "  </thead>\n",
       "  <tbody>\n",
       "  </tbody>\n",
       "</table>\n",
       "</div>"
      ],
      "text/plain": [
       "Empty DataFrame\n",
       "Columns: [id, name, address, chain, type, seats, street_name]\n",
       "Index: []"
      ]
     },
     "execution_count": 137,
     "metadata": {},
     "output_type": "execute_result"
    }
   ],
   "source": [
    "rest_data.loc[rest_data['address'].str.startswith('OLVERA'), 'street_name'] = 'Olvera'\n",
    "rest_data.loc[rest_data['address'].str.startswith('123 ASTRONAUT'), 'street_name'] = 'Astronaut'\n",
    "rest_data.loc[rest_data['street_name']=='No Street', 'street_name'] = 'Other'\n",
    "rest_data[rest_data['street_name']=='No Street'].sort_values(by='address')"
   ]
  },
  {
   "cell_type": "code",
   "execution_count": 138,
   "metadata": {},
   "outputs": [
    {
     "data": {
      "text/plain": [
       "480"
      ]
     },
     "execution_count": 138,
     "metadata": {},
     "output_type": "execute_result"
    }
   ],
   "source": [
    "rest_data['street_name'].nunique()"
   ]
  },
  {
   "cell_type": "markdown",
   "metadata": {},
   "source": [
    "We have 480 streets in our dataset."
   ]
  },
  {
   "cell_type": "markdown",
   "metadata": {},
   "source": [
    "### 2.7 Top ten streets by number of restaurants."
   ]
  },
  {
   "cell_type": "code",
   "execution_count": 197,
   "metadata": {},
   "outputs": [
    {
     "data": {
      "text/plain": [
       "3254"
      ]
     },
     "execution_count": 197,
     "metadata": {},
     "output_type": "execute_result"
    }
   ],
   "source": [
    "streets = rest_data.groupby('street_name').agg({'id': 'count', 'seats':'sum'}).reset_index()\n",
    "streets.columns = ['street', 'venues', 'seats']\n",
    "streets = streets.sort_values(by='venues', ascending=False)\n",
    "top_10_streets = streets.head(10)\n",
    "top_10_streets.sort_values(by='seats', ascending=False)\n",
    "top_10_streets['venues'].sum()"
   ]
  },
  {
   "cell_type": "markdown",
   "metadata": {},
   "source": [
    "The top ten streets are home to about 44% of all establishments. nice"
   ]
  },
  {
   "cell_type": "code",
   "execution_count": 192,
   "metadata": {
    "slideshow": {
     "slide_type": "slide"
    }
   },
   "outputs": [
    {
     "data": {
      "image/png": "[encoded data removed]",
      "text/plain": [
       "<Figure size 936x648 with 1 Axes>"
      ]
     },
     "metadata": {},
     "output_type": "display_data"
    }
   ],
   "source": [
    "plt.figure(figsize=(13,9))\n",
    "ax= sns.barplot(data=top_10_streets, x='street', y='venues', color='green')\n",
    "ax.set_title('Top 10 streets with the highest amount of restaurants')\n",
    "ax.set_xlabel('Street Name')\n",
    "ax.set_ylabel('Number of Venues')\n",
    "sns.despine();"
   ]
  },
  {
   "cell_type": "markdown",
   "metadata": {
    "slideshow": {
     "slide_type": "subslide"
    }
   },
   "source": [
    "All streets host between 300-400 restaurants."
   ]
  },
  {
   "cell_type": "markdown",
   "metadata": {},
   "source": [
    "### 2.8 One restaurant Streets"
   ]
  },
  {
   "cell_type": "code",
   "execution_count": 181,
   "metadata": {},
   "outputs": [
    {
     "data": {
      "text/plain": [
       "192"
      ]
     },
     "execution_count": 181,
     "metadata": {},
     "output_type": "execute_result"
    }
   ],
   "source": [
    "street_counts = rest_data.groupby('street_name').size().reset_index(name='restaurant_count')\n",
    "one_restaurant_streets = street_counts[street_counts['restaurant_count'] == 1]['street_name'].tolist()\n",
    "len(one_restaurant_streets)"
   ]
  },
  {
   "cell_type": "markdown",
   "metadata": {},
   "source": [
    "There are 192 streets that only have one restaurant."
   ]
  },
  {
   "cell_type": "markdown",
   "metadata": {},
   "source": [
    "### 2.9 Trends of number of seats in streets with a lot of restaurants"
   ]
  },
  {
   "cell_type": "code",
   "execution_count": 220,
   "metadata": {
    "scrolled": true
   },
   "outputs": [
    {
     "data": {
      "text/html": [
       "<div>\n",
       "<style scoped>\n",
       "    .dataframe tbody tr th:only-of-type {\n",
       "        vertical-align: middle;\n",
       "    }\n",
       "\n",
       "    .dataframe tbody tr th {\n",
       "        vertical-align: top;\n",
       "    }\n",
       "\n",
       "    .dataframe thead th {\n",
       "        text-align: right;\n",
       "    }\n",
       "</style>\n",
       "<table border=\"1\" class=\"dataframe\">\n",
       "  <thead>\n",
       "    <tr style=\"text-align: right;\">\n",
       "      <th></th>\n",
       "      <th>id</th>\n",
       "      <th>name</th>\n",
       "      <th>address</th>\n",
       "      <th>chain</th>\n",
       "      <th>type</th>\n",
       "      <th>seats</th>\n",
       "      <th>street_name</th>\n",
       "    </tr>\n",
       "  </thead>\n",
       "  <tbody>\n",
       "    <tr>\n",
       "      <th>2</th>\n",
       "      <td>11788</td>\n",
       "      <td>Street Churros</td>\n",
       "      <td>6801 HOLLYWOOD BLVD # 253</td>\n",
       "      <td>False</td>\n",
       "      <td>Fast Food</td>\n",
       "      <td>20</td>\n",
       "      <td>Hollywood</td>\n",
       "    </tr>\n",
       "    <tr>\n",
       "      <th>3</th>\n",
       "      <td>11789</td>\n",
       "      <td>Triniti Echo Park</td>\n",
       "      <td>1814 W SUNSET BLVD</td>\n",
       "      <td>False</td>\n",
       "      <td>Restaurant</td>\n",
       "      <td>22</td>\n",
       "      <td>Sunset</td>\n",
       "    </tr>\n",
       "    <tr>\n",
       "      <th>10</th>\n",
       "      <td>11796</td>\n",
       "      <td>El Pollo Loco</td>\n",
       "      <td>5319 W SUNSET BLVD</td>\n",
       "      <td>True</td>\n",
       "      <td>Restaurant</td>\n",
       "      <td>38</td>\n",
       "      <td>Sunset</td>\n",
       "    </tr>\n",
       "    <tr>\n",
       "      <th>11</th>\n",
       "      <td>11797</td>\n",
       "      <td>Poong Nyun Bakery</td>\n",
       "      <td>928 S WESTERN AVE STE 109</td>\n",
       "      <td>True</td>\n",
       "      <td>Bakery</td>\n",
       "      <td>17</td>\n",
       "      <td>Western</td>\n",
       "    </tr>\n",
       "    <tr>\n",
       "      <th>14</th>\n",
       "      <td>11800</td>\n",
       "      <td>Cuscatleca Bakery</td>\n",
       "      <td>2501 W SUNSET BLVD #A</td>\n",
       "      <td>True</td>\n",
       "      <td>Bakery</td>\n",
       "      <td>26</td>\n",
       "      <td>Sunset</td>\n",
       "    </tr>\n",
       "    <tr>\n",
       "      <th>...</th>\n",
       "      <td>...</td>\n",
       "      <td>...</td>\n",
       "      <td>...</td>\n",
       "      <td>...</td>\n",
       "      <td>...</td>\n",
       "      <td>...</td>\n",
       "      <td>...</td>\n",
       "    </tr>\n",
       "    <tr>\n",
       "      <th>9634</th>\n",
       "      <td>21420</td>\n",
       "      <td>Mild Sauce</td>\n",
       "      <td>8500 W OLYMPIC BLVD STE B</td>\n",
       "      <td>False</td>\n",
       "      <td>Restaurant</td>\n",
       "      <td>15</td>\n",
       "      <td>Olympic</td>\n",
       "    </tr>\n",
       "    <tr>\n",
       "      <th>9635</th>\n",
       "      <td>21421</td>\n",
       "      <td>The Tea &amp; Coffee Exchange</td>\n",
       "      <td>6801 HOLLYWOOD BLVD # 120</td>\n",
       "      <td>False</td>\n",
       "      <td>Cafe</td>\n",
       "      <td>4</td>\n",
       "      <td>Hollywood</td>\n",
       "    </tr>\n",
       "    <tr>\n",
       "      <th>9639</th>\n",
       "      <td>21425</td>\n",
       "      <td>Mcdonald'S</td>\n",
       "      <td>1800 S WESTERN AVE</td>\n",
       "      <td>True</td>\n",
       "      <td>Fast Food</td>\n",
       "      <td>135</td>\n",
       "      <td>Western</td>\n",
       "    </tr>\n",
       "    <tr>\n",
       "      <th>9645</th>\n",
       "      <td>21431</td>\n",
       "      <td>Saint Marc</td>\n",
       "      <td>10250 SANTA MONICA BLVD # 1025</td>\n",
       "      <td>False</td>\n",
       "      <td>Restaurant</td>\n",
       "      <td>225</td>\n",
       "      <td>Santa Monica</td>\n",
       "    </tr>\n",
       "    <tr>\n",
       "      <th>9648</th>\n",
       "      <td>21434</td>\n",
       "      <td>Juicy Wingz</td>\n",
       "      <td>6741 HOLLYWOOD BLVD</td>\n",
       "      <td>True</td>\n",
       "      <td>Fast Food</td>\n",
       "      <td>15</td>\n",
       "      <td>Hollywood</td>\n",
       "    </tr>\n",
       "  </tbody>\n",
       "</table>\n",
       "<p>3254 rows × 7 columns</p>\n",
       "</div>"
      ],
      "text/plain": [
       "         id                       name                         address  chain  \\\n",
       "2     11788             Street Churros       6801 HOLLYWOOD BLVD # 253  False   \n",
       "3     11789          Triniti Echo Park              1814 W SUNSET BLVD  False   \n",
       "10    11796              El Pollo Loco              5319 W SUNSET BLVD   True   \n",
       "11    11797          Poong Nyun Bakery       928 S WESTERN AVE STE 109   True   \n",
       "14    11800          Cuscatleca Bakery           2501 W SUNSET BLVD #A   True   \n",
       "...     ...                        ...                             ...    ...   \n",
       "9634  21420                 Mild Sauce       8500 W OLYMPIC BLVD STE B  False   \n",
       "9635  21421  The Tea & Coffee Exchange       6801 HOLLYWOOD BLVD # 120  False   \n",
       "9639  21425                 Mcdonald'S              1800 S WESTERN AVE   True   \n",
       "9645  21431                 Saint Marc  10250 SANTA MONICA BLVD # 1025  False   \n",
       "9648  21434                Juicy Wingz             6741 HOLLYWOOD BLVD   True   \n",
       "\n",
       "            type  seats   street_name  \n",
       "2      Fast Food     20     Hollywood  \n",
       "3     Restaurant     22        Sunset  \n",
       "10    Restaurant     38        Sunset  \n",
       "11        Bakery     17       Western  \n",
       "14        Bakery     26        Sunset  \n",
       "...          ...    ...           ...  \n",
       "9634  Restaurant     15       Olympic  \n",
       "9635        Cafe      4     Hollywood  \n",
       "9639   Fast Food    135       Western  \n",
       "9645  Restaurant    225  Santa Monica  \n",
       "9648   Fast Food     15     Hollywood  \n",
       "\n",
       "[3254 rows x 7 columns]"
      ]
     },
     "execution_count": 220,
     "metadata": {},
     "output_type": "execute_result"
    }
   ],
   "source": [
    "top10 = rest_data.query('street_name in @top_10_streets[\"street\"]')\n",
    "top10"
   ]
  },
  {
   "cell_type": "code",
   "execution_count": 230,
   "metadata": {
    "slideshow": {
     "slide_type": "slide"
    }
   },
   "outputs": [
    {
     "data": {
      "image/png": "[encoded data removed]",
      "text/plain": [
       "<Figure size 936x648 with 1 Axes>"
      ]
     },
     "metadata": {},
     "output_type": "display_data"
    }
   ],
   "source": [
    "plt.figure(figsize=(13,9))\n",
    "ax = sns.boxplot(x='street_name', y='seats', data=top10.sort_values(by='seats', ascending=False), color='Green')\n",
    "ax.set_title('Top 10 streets with the highest amount of seats')\n",
    "ax.set_xlabel('Street')\n",
    "ax.set_ylabel('Seats number')\n",
    "sns.despine();"
   ]
  },
  {
   "cell_type": "markdown",
   "metadata": {
    "slideshow": {
     "slide_type": "subslide"
    }
   },
   "source": [
    "The restaurants in the leading streets have between 40-60 seats on average, with **Hollywood** having the largest number out of them, and **Wilshire** just after it."
   ]
  },
  {
   "cell_type": "markdown",
   "metadata": {},
   "source": [
    "### 2.10 Overall conclusion and recommendations "
   ]
  },
  {
   "cell_type": "markdown",
   "metadata": {
    "slideshow": {
     "slide_type": "slide"
    }
   },
   "source": [
    "**Market Research on LA Establishments:**\n",
    "\n",
    "We have studied a dataset that includes 9648 establishments all across Los Angeles, 75% of them are restaurants.\n",
    "Only 4.15% are cafes.\n",
    "62% of all establishments are non-chains and 38% are chains.\n",
    "Restaurants and bars are mostly nonchain and have many seats, Fast food and cafes are more often part of chain and have fewer seats, because of their business natures.\n",
    "Most establishments have up to 50 seats.\n",
    "The most popular streets are Sunset, Wilshire, Pico, Western, Figueroa, Vermont, Olympic, Santa Monica, 3rd and Hollywood.\n",
    "\n",
    "**Recommendations on opening a small robot-run cafe in Los Angeles:**\n",
    "\n",
    "**Open a restaurant, in the city center, with around 30 seats, that could become a chain with time.**\n",
    "Unfortunately, cafes are not a big hit in LA as they take about 4% of the establishments, so we can open instead a bistro-restaurant with the robots experience already discussed. For its location, we should choose one of the popular streets, as they are most probably the main streets of tourists, which can attract more traffic towards the exclusive restaurant. For L.A locations, I don't reckon we should open more than one restaurant in the city, but once successful, we can open branches for other cities across the country and even overseas."
   ]
  },
  {
   "cell_type": "markdown",
   "metadata": {},
   "source": [
    "## 3. Presentation"
   ]
  },
  {
   "cell_type": "markdown",
   "metadata": {},
   "source": [
    "Presentation: https://drive.google.com/file/d/1ABK1KXBKbBhY3CBDEKzMDdyuk_79ApeG/view?usp=sharing"
   ]
  }
 ],
 "metadata": {
  "kernelspec": {
   "display_name": "anaconda-2022.05-py39",
   "language": "python",
   "name": "conda-env-anaconda-2022.05-py39-py"
  },
  "language_info": {
   "codemirror_mode": {
    "name": "ipython",
    "version": 3
   },
   "file_extension": ".py",
   "mimetype": "text/x-python",
   "name": "python",
   "nbconvert_exporter": "python",
   "pygments_lexer": "ipython3",
   "version": "3.9.12"
  },
  "toc": {
   "base_numbering": 1,
   "nav_menu": {},
   "number_sections": false,
   "sideBar": true,
   "skip_h1_title": false,
   "title_cell": "Table of Contents",
   "title_sidebar": "Contents",
   "toc_cell": false,
   "toc_position": {
    "height": "calc(100% - 180px)",
    "left": "10px",
    "top": "150px",
    "width": "307.995px"
   },
   "toc_section_display": true,
   "toc_window_display": false
  }
 },
 "nbformat": 4,
 "nbformat_minor": 4
}
